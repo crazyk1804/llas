{
 "cells": [
  {
   "cell_type": "code",
   "execution_count": 1,
   "metadata": {},
   "outputs": [],
   "source": [
    "from gensim.models import KeyedVectors\n",
    "from gensim.scripts.glove2word2vec import glove2word2vec"
   ]
  },
  {
   "cell_type": "code",
   "execution_count": 2,
   "metadata": {},
   "outputs": [
    {
     "name": "stdout",
     "output_type": "stream",
     "text": [
      "--2024-08-20 22:21:57--  http://nlp.stanford.edu/data/glove.6B.zip\n",
      "nlp.stanford.edu (nlp.stanford.edu) 해석 중... 171.64.67.140\n",
      "다음으로 연결 중: nlp.stanford.edu (nlp.stanford.edu)|171.64.67.140|:80... 연결했습니다.\n",
      "HTTP 요청을 보냈습니다. 응답 기다리는 중... 302 Found\n",
      "위치: https://nlp.stanford.edu/data/glove.6B.zip [따라감]\n",
      "--2024-08-20 22:21:58--  https://nlp.stanford.edu/data/glove.6B.zip\n",
      "다음으로 연결 중: nlp.stanford.edu (nlp.stanford.edu)|171.64.67.140|:443... 연결했습니다.\n",
      "HTTP 요청을 보냈습니다. 응답 기다리는 중... 301 Moved Permanently\n",
      "위치: https://downloads.cs.stanford.edu/nlp/data/glove.6B.zip [따라감]\n",
      "--2024-08-20 22:21:59--  https://downloads.cs.stanford.edu/nlp/data/glove.6B.zip\n",
      "downloads.cs.stanford.edu (downloads.cs.stanford.edu) 해석 중... 171.64.64.22\n",
      "다음으로 연결 중: downloads.cs.stanford.edu (downloads.cs.stanford.edu)|171.64.64.22|:443... 연결했습니다.\n",
      "HTTP 요청을 보냈습니다. 응답 기다리는 중... 200 OK\n",
      "길이: 862182613 (822M) [application/zip]\n",
      "저장 위치: ‘glove.6B.zip’\n",
      "\n",
      "glove.6B.zip        100%[===================>] 822.24M  5.15MB/s    / 2m 39s   \n",
      "\n",
      "2024-08-20 22:24:39 (5.17 MB/s) - ‘glove.6B.zip’ 저장함 [862182613/862182613]\n",
      "\n"
     ]
    }
   ],
   "source": [
    "!wget http://nlp.stanford.edu/data/glove.6B.zip"
   ]
  },
  {
   "cell_type": "code",
   "execution_count": 3,
   "metadata": {},
   "outputs": [
    {
     "name": "stderr",
     "output_type": "stream",
     "text": [
      "/tmp/ipykernel_3486/857131137.py:7: DeprecationWarning: Call to deprecated `glove2word2vec` (KeyedVectors.load_word2vec_format(.., binary=False, no_header=True) loads GLoVE text vectors.).\n",
      "  glove2word2vec(path_glove, word2vec_output_file)\n"
     ]
    },
    {
     "data": {
      "text/plain": [
       "(2, 3)"
      ]
     },
     "execution_count": 3,
     "metadata": {},
     "output_type": "execute_result"
    }
   ],
   "source": [
    "path_glove = 'glove.6B.100d.txt'\n",
    "with open(path_glove, 'w') as f:\n",
    "    f.write('cat 0.5 0.3 0.2\\n')\n",
    "    f.write('dog 0.4 0.7 0.8\\n')\n",
    "    \n",
    "word2vec_output_file = path_glove + '.word2vec'\n",
    "glove2word2vec(path_glove, word2vec_output_file)"
   ]
  },
  {
   "cell_type": "markdown",
   "metadata": {},
   "source": [
    "##### **리턴된 (2, 3)은 해당 벡터의 shape**"
   ]
  },
  {
   "cell_type": "markdown",
   "metadata": {},
   "source": []
  }
 ],
 "metadata": {
  "kernelspec": {
   "display_name": "p38",
   "language": "python",
   "name": "python3"
  },
  "language_info": {
   "codemirror_mode": {
    "name": "ipython",
    "version": 3
   },
   "file_extension": ".py",
   "mimetype": "text/x-python",
   "name": "python",
   "nbconvert_exporter": "python",
   "pygments_lexer": "ipython3",
   "version": "3.8.19"
  }
 },
 "nbformat": 4,
 "nbformat_minor": 2
}
